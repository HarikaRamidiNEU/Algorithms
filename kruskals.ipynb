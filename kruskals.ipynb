{
  "metadata": {
    "language_info": {
      "codemirror_mode": {
        "name": "python",
        "version": 3
      },
      "file_extension": ".py",
      "mimetype": "text/x-python",
      "name": "python",
      "nbconvert_exporter": "python",
      "pygments_lexer": "ipython3",
      "version": "3.8"
    },
    "kernelspec": {
      "name": "python",
      "display_name": "Python (Pyodide)",
      "language": "python"
    }
  },
  "nbformat_minor": 4,
  "nbformat": 4,
  "cells": [
    {
      "cell_type": "code",
      "source": "# Define a function to find the parent node of a node in a union-find data structure\ndef find(parent, node):\n    while parent[node] != node:\n        node = parent[node]\n    return node\n\n# Define a function to perform Kruskal's algorithm on a graph represented as an adjacency matrix\ndef kruskal(graph):\n    n = len(graph)\n    edges = []\n    for i in range(n):\n        for j in range(i+1, n):\n            if graph[i][j] != 0:\n                edges.append((graph[i][j], i, j))\n    edges.sort()  # sort edges by weight\n\n    parent = list(range(n))\n    mst = []\n    for edge in edges:\n        weight, u, v = edge\n        parent_u, parent_v = find(parent, u), find(parent, v)\n        if parent_u != parent_v:\n            mst.append(edge)\n            parent[parent_u] = parent_v\n    return mst\n",
      "metadata": {
        "trusted": true
      },
      "execution_count": 1,
      "outputs": []
    },
    {
      "cell_type": "code",
      "source": "graph = [\n    [0, 2, 0, 6, 0],\n    [2, 0, 3, 8, 5],\n    [0, 3, 0, 0, 7],\n    [6, 8, 0, 0, 9],\n    [0, 5, 7, 9, 0]\n]\nkruskal(graph)",
      "metadata": {
        "trusted": true
      },
      "execution_count": 4,
      "outputs": [
        {
          "execution_count": 4,
          "output_type": "execute_result",
          "data": {
            "text/plain": "[(2, 0, 1), (3, 1, 2), (5, 1, 4), (6, 0, 3)]"
          },
          "metadata": {}
        }
      ]
    },
    {
      "cell_type": "code",
      "source": "",
      "metadata": {},
      "execution_count": null,
      "outputs": []
    }
  ]
}