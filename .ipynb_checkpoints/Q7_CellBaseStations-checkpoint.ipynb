{
 "cells": [
  {
   "cell_type": "code",
   "execution_count": 18,
   "id": "c0c3904d",
   "metadata": {},
   "outputs": [
    {
     "data": {
      "text/plain": [
       "[7, 19, 30]"
      ]
     },
     "execution_count": 18,
     "metadata": {},
     "output_type": "execute_result"
    }
   ],
   "source": [
    "def place_base_stations(house_locations, road_length, station_range):\n",
    "    house_locations = sorted(house_locations)\n",
    "    \n",
    "    base_stations = []\n",
    "    \n",
    "    start_idx, end_idx = 0, 0\n",
    "    \n",
    "    while end_idx < len(house_locations):\n",
    "        while end_idx < len(house_locations) and house_locations[end_idx] - house_locations[start_idx] <= station_range:\n",
    "            end_idx += 1\n",
    "        \n",
    "        base_stations.append(house_locations[end_idx-1])\n",
    "        \n",
    "        while start_idx < len(house_locations) and house_locations[start_idx] - house_locations[end_idx-1] <= station_range:\n",
    "            start_idx += 1\n",
    "    \n",
    "    return base_stations\n",
    "\n",
    "house_locations = [1, 3, 7, 10, 14, 16, 19, 22, 25, 27, 30]\n",
    "road_length = 30\n",
    "station_range = 6\n",
    "place_base_stations(house_locations, road_length, station_range)"
   ]
  },
  {
   "cell_type": "code",
   "execution_count": null,
   "id": "15bd515b",
   "metadata": {},
   "outputs": [],
   "source": []
  }
 ],
 "metadata": {
  "kernelspec": {
   "display_name": "Python 3 (ipykernel)",
   "language": "python",
   "name": "python3"
  },
  "language_info": {
   "codemirror_mode": {
    "name": "ipython",
    "version": 3
   },
   "file_extension": ".py",
   "mimetype": "text/x-python",
   "name": "python",
   "nbconvert_exporter": "python",
   "pygments_lexer": "ipython3",
   "version": "3.11.2"
  }
 },
 "nbformat": 4,
 "nbformat_minor": 5
}
