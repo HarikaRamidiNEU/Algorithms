{
 "cells": [
  {
   "cell_type": "code",
   "execution_count": 13,
   "id": "b54acc23",
   "metadata": {},
   "outputs": [
    {
     "name": "stdout",
     "output_type": "stream",
     "text": [
      "[14, 19, 22, 24, 25, 26, 30, 32]\n",
      "[30, 32]\n",
      "[]\n"
     ]
    },
    {
     "data": {
      "text/plain": [
       "[7, 20, 32]"
      ]
     },
     "execution_count": 13,
     "metadata": {},
     "output_type": "execute_result"
    }
   ],
   "source": [
    "def place_base_stations(houses, distance):\n",
    "    base_stations = []\n",
    "    while houses:\n",
    "        # find left-most house\n",
    "        leftmost_house = min(houses)\n",
    "        if(houses[len(houses)-1] > leftmost_house + distance):\n",
    "            base_station = leftmost_house + distance\n",
    "        else:\n",
    "            base_station = houses[len(houses)-1]\n",
    "        # add base station to the list of base stations\n",
    "        base_stations.append(base_station)\n",
    "        # remove houses within range of the new base station\n",
    "        houses = [house for house in houses if house > base_station + distance]\n",
    "    return base_stations\n",
    "\n",
    "houses = [1, 3, 7, 12, 14, 19, 22, 24, 25, 26, 30, 32]\n",
    "max_distance = 6\n",
    "place_base_stations(houses, max_distance)"
   ]
  },
  {
   "cell_type": "code",
   "execution_count": null,
   "id": "9ca4757f",
   "metadata": {},
   "outputs": [],
   "source": []
  }
 ],
 "metadata": {
  "kernelspec": {
   "display_name": "Python 3 (ipykernel)",
   "language": "python",
   "name": "python3"
  },
  "language_info": {
   "codemirror_mode": {
    "name": "ipython",
    "version": 3
   },
   "file_extension": ".py",
   "mimetype": "text/x-python",
   "name": "python",
   "nbconvert_exporter": "python",
   "pygments_lexer": "ipython3",
   "version": "3.11.2"
  }
 },
 "nbformat": 4,
 "nbformat_minor": 5
}
