{
 "cells": [
  {
   "cell_type": "code",
   "execution_count": 1,
   "id": "54d9295e",
   "metadata": {},
   "outputs": [
    {
     "name": "stdout",
     "output_type": "stream",
     "text": [
      "A ->B  C  \n",
      "B ->D  E  \n",
      "C ->D  \n",
      "D ->E  \n"
     ]
    }
   ],
   "source": [
    "def addEdge(adj, u, v):\n",
    "    if adj.get(u) is not None:\n",
    "        adj[u] = adj[u] + v\n",
    "    else:\n",
    "        adj[u] = v\n",
    "\n",
    "def adjacencylist(adj, V):\n",
    "    for i in adj:\n",
    "        print(i, \"->\", end=\"\")\n",
    "        for x in adj[i]:\n",
    "            print(x , \" \", end=\"\")\n",
    "        print()\n",
    "        \n",
    "def initGraph(V, edges, noOfEdges):\n",
    "    adj = {}\n",
    "    for i in range(0, noOfEdges) :\n",
    "        addEdge(adj, edges[i][0], edges[i][1])\n",
    "\n",
    "    adjacencylist(adj, V)\n",
    "\n",
    "V = 5\n",
    "edges = [[\"A\", \"B\" ],  [\"A\", \"C\" ],  [\"B\", \"D\" ], [\"B\", \"E\"], [\"C\", \"D\"], [\"D\", \"E\"]]\n",
    "noOfEdges = 6;\n",
    "initGraph(V, edges, noOfEdges)"
   ]
  },
  {
   "cell_type": "code",
   "execution_count": null,
   "id": "f51ea428",
   "metadata": {},
   "outputs": [],
   "source": []
  }
 ],
 "metadata": {
  "kernelspec": {
   "display_name": "Python 3 (ipykernel)",
   "language": "python",
   "name": "python3"
  },
  "language_info": {
   "codemirror_mode": {
    "name": "ipython",
    "version": 3
   },
   "file_extension": ".py",
   "mimetype": "text/x-python",
   "name": "python",
   "nbconvert_exporter": "python",
   "pygments_lexer": "ipython3",
   "version": "3.11.2"
  }
 },
 "nbformat": 4,
 "nbformat_minor": 5
}
