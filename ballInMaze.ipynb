{
 "cells": [
  {
   "cell_type": "code",
   "execution_count": 5,
   "id": "0cc95b97",
   "metadata": {},
   "outputs": [
    {
     "name": "stdout",
     "output_type": "stream",
     "text": [
      "True\n"
     ]
    }
   ],
   "source": [
    "def stop_destination(maze, current, dest, visited):\n",
    "    if current == dest:\n",
    "        return True\n",
    "    \n",
    "    visited.add(current)\n",
    "    \n",
    "    directions = [(0, 1), (0, -1), (1, 0), (-1, 0)]\n",
    "    \n",
    "    for direction in directions:\n",
    "        next_pos = (current[0] + direction[0], current[1] + direction[1])\n",
    "        if (0 <= next_pos[0] < len(maze) and \n",
    "            0 <= next_pos[1] < len(maze[0]) and \n",
    "            maze[next_pos[0]][next_pos[1]] == 'o' and \n",
    "            next_pos not in visited):\n",
    "            if stop_destination(maze, next_pos, dest, visited):\n",
    "                return True\n",
    "    \n",
    "    return False\n",
    "\n",
    "maze = [    ['x', 'x', 'x', 'x', 'x'],\n",
    "    ['x', 'o', 'o', 'o', 'x'],\n",
    "    ['x', 'x', 'x', 'o', 'x'],\n",
    "    ['x', 'o', 'x', 'o', 'x'],\n",
    "    ['x', 'x', 'x', 'x', 'x']\n",
    "]\n",
    "start = (1, 1)\n",
    "dest = (3, 3)\n",
    "visited = set()\n",
    "\n",
    "status = stop_destination(maze, start, dest, visited)\n",
    "print(status)\n"
   ]
  },
  {
   "cell_type": "code",
   "execution_count": null,
   "id": "d37fa61c",
   "metadata": {},
   "outputs": [],
   "source": []
  },
  {
   "cell_type": "code",
   "execution_count": null,
   "id": "8248707e",
   "metadata": {},
   "outputs": [],
   "source": []
  }
 ],
 "metadata": {
  "kernelspec": {
   "display_name": "Python 3 (ipykernel)",
   "language": "python",
   "name": "python3"
  },
  "language_info": {
   "codemirror_mode": {
    "name": "ipython",
    "version": 3
   },
   "file_extension": ".py",
   "mimetype": "text/x-python",
   "name": "python",
   "nbconvert_exporter": "python",
   "pygments_lexer": "ipython3",
   "version": "3.11.2"
  }
 },
 "nbformat": 4,
 "nbformat_minor": 5
}
