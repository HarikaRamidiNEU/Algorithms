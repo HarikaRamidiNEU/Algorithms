{
  "metadata": {
    "language_info": {
      "codemirror_mode": {
        "name": "python",
        "version": 3
      },
      "file_extension": ".py",
      "mimetype": "text/x-python",
      "name": "python",
      "nbconvert_exporter": "python",
      "pygments_lexer": "ipython3",
      "version": "3.8"
    },
    "kernelspec": {
      "name": "python",
      "display_name": "Python (Pyodide)",
      "language": "python"
    }
  },
  "nbformat_minor": 4,
  "nbformat": 4,
  "cells": [
    {
      "cell_type": "code",
      "source": "def knapSack(W, wt, val): \n    n=len(val)\n    table = [[0 for x in range(W + 1)] for x in range(n + 1)] \n \n    for i in range(n + 1): \n        for j in range(W + 1): \n            if i == 0 or j == 0: \n                table[i][j] = 0\n            elif wt[i-1] <= j: \n                table[i][j] = max(val[i-1]  \n+ table[i-1][j-wt[i-1]],  table[i-1][j]) \n            else: \n                table[i][j] = table[i-1][j] \n   \n    return table[n][W]",
      "metadata": {
        "trusted": true
      },
      "execution_count": 1,
      "outputs": []
    },
    {
      "cell_type": "code",
      "source": "val = [5,3,2,4,1]\nwt = [5,1,3,4,3]\nW = 10\n \nprint(knapSack(W, wt, val))",
      "metadata": {
        "trusted": true
      },
      "execution_count": 3,
      "outputs": [
        {
          "name": "stdout",
          "text": "12\n",
          "output_type": "stream"
        }
      ]
    },
    {
      "cell_type": "code",
      "source": "",
      "metadata": {},
      "execution_count": null,
      "outputs": []
    }
  ]
}