{
 "cells": [
  {
   "cell_type": "code",
   "execution_count": 3,
   "id": "c9551dd0",
   "metadata": {},
   "outputs": [],
   "source": [
    "def gameOfLife(board):\n",
    "    m, n = len(board), len(board[0])\n",
    "    next_board = [[0 for j in range(n)] for i in range(m)]\n",
    "    \n",
    "    for i in range(m):\n",
    "        for j in range(n):\n",
    "            live_neighbors = 0\n",
    "            \n",
    "            for di, dj in [(1,0), (-1,0), (0,1), (0,-1), (1,1), (-1,-1), (1,-1), (-1,1)]:\n",
    "                ni, nj = i+di, j+dj\n",
    "                if 0 <= ni < m and 0 <= nj < n and board[ni][nj] == 1:\n",
    "                    live_neighbors += 1\n",
    "            \n",
    "            if board[i][j] == 1:\n",
    "                if live_neighbors < 2 or live_neighbors > 3:\n",
    "                    next_board[i][j] = 0\n",
    "                else:\n",
    "                    next_board[i][j] = 1\n",
    "            else:\n",
    "                if live_neighbors == 3:\n",
    "                    next_board[i][j] = 1\n",
    "    \n",
    "    return next_board"
   ]
  },
  {
   "cell_type": "code",
   "execution_count": 4,
   "id": "4becc35a",
   "metadata": {},
   "outputs": [
    {
     "name": "stdout",
     "output_type": "stream",
     "text": [
      "[[0, 0, 0], [1, 0, 1], [0, 1, 1], [0, 1, 0]]\n"
     ]
    }
   ],
   "source": [
    "board = [[0,1,0],[0,0,1],[1,1,1],[0,0,0]]\n",
    "next_board = gameOfLife(board)\n",
    "print(next_board)"
   ]
  },
  {
   "cell_type": "code",
   "execution_count": 5,
   "id": "fe5aac74",
   "metadata": {},
   "outputs": [
    {
     "name": "stdout",
     "output_type": "stream",
     "text": [
      "[[1, 1], [1, 1]]\n"
     ]
    }
   ],
   "source": [
    "board = [[1,1],[1,0]]\n",
    "next_board = gameOfLife(board)\n",
    "print(next_board)"
   ]
  },
  {
   "cell_type": "code",
   "execution_count": null,
   "id": "abe36f8c",
   "metadata": {},
   "outputs": [],
   "source": []
  }
 ],
 "metadata": {
  "kernelspec": {
   "display_name": "Python 3 (ipykernel)",
   "language": "python",
   "name": "python3"
  },
  "language_info": {
   "codemirror_mode": {
    "name": "ipython",
    "version": 3
   },
   "file_extension": ".py",
   "mimetype": "text/x-python",
   "name": "python",
   "nbconvert_exporter": "python",
   "pygments_lexer": "ipython3",
   "version": "3.11.2"
  }
 },
 "nbformat": 4,
 "nbformat_minor": 5
}
