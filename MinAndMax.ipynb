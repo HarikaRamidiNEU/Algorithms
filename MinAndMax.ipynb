{
 "cells": [
  {
   "cell_type": "code",
   "execution_count": 13,
   "id": "77657c9b",
   "metadata": {},
   "outputs": [],
   "source": [
    "def find_max_min(arr):\n",
    "    n = len(arr)\n",
    "    if n == 1:\n",
    "        return arr[0], arr[0]  \n",
    "    elif n == 2:\n",
    "        return (arr[0], arr[1]) if arr[0] > arr[1] else (arr[1], arr[0])  \n",
    "    else:\n",
    "        mid = n // 2\n",
    "        left_max, left_min = find_max_min(arr[:mid])\n",
    "        right_max, right_min = find_max_min(arr[mid:])\n",
    "        \n",
    "        return (max(left_max, right_max), min(left_min, right_min))\n"
   ]
  },
  {
   "cell_type": "code",
   "execution_count": 14,
   "id": "ccb903e9",
   "metadata": {},
   "outputs": [
    {
     "name": "stdout",
     "output_type": "stream",
     "text": [
      "Largest element: 11\n",
      "Smallest element: 2\n"
     ]
    }
   ],
   "source": [
    "arr = [10, 5, 7, 2, 9, 3, 11, 8, 6, 4]\n",
    "largest, smallest = find_max_min(arr)\n",
    "print(\"Largest element:\", largest)\n",
    "print(\"Smallest element:\", smallest)"
   ]
  },
  {
   "cell_type": "code",
   "execution_count": null,
   "id": "e82a1a93",
   "metadata": {},
   "outputs": [],
   "source": []
  }
 ],
 "metadata": {
  "kernelspec": {
   "display_name": "Python 3 (ipykernel)",
   "language": "python",
   "name": "python3"
  },
  "language_info": {
   "codemirror_mode": {
    "name": "ipython",
    "version": 3
   },
   "file_extension": ".py",
   "mimetype": "text/x-python",
   "name": "python",
   "nbconvert_exporter": "python",
   "pygments_lexer": "ipython3",
   "version": "3.11.2"
  }
 },
 "nbformat": 4,
 "nbformat_minor": 5
}
