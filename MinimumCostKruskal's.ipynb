{
 "cells": [
  {
   "cell_type": "code",
   "execution_count": 3,
   "id": "3c76f12c",
   "metadata": {},
   "outputs": [],
   "source": [
    "def minCostConnectPoints(points):\n",
    "    edges = []\n",
    "    for i in range(len(points)):\n",
    "        for j in range(i+1, len(points)):\n",
    "            weight = abs(points[i][0]-points[j][0]) + abs(points[i][1]-points[j][1])\n",
    "            edges.append((i, j, weight))\n",
    "\n",
    "    edges.sort(key=lambda x: x[2])\n",
    "\n",
    "    parent = [i for i in range(len(points))]\n",
    "\n",
    "    def find(x):\n",
    "        if parent[x] != x:\n",
    "            parent[x] = find(parent[x])\n",
    "        return parent[x]\n",
    "\n",
    "    def union(x, y):\n",
    "        parent[find(x)] = find(y)\n",
    "\n",
    "    cost = 0\n",
    "    for edge in edges:\n",
    "        if find(edge[0]) != find(edge[1]):\n",
    "            union(edge[0], edge[1])\n",
    "            cost += edge[2]\n",
    "\n",
    "    return cost\n"
   ]
  },
  {
   "cell_type": "code",
   "execution_count": 4,
   "id": "e46e9944",
   "metadata": {},
   "outputs": [
    {
     "name": "stdout",
     "output_type": "stream",
     "text": [
      "20\n"
     ]
    }
   ],
   "source": [
    "points = [[0,0],[2,2],[3,10],[5,2],[7,0]]\n",
    "print(minCostConnectPoints(points))\n"
   ]
  },
  {
   "cell_type": "code",
   "execution_count": null,
   "id": "1d0a8163",
   "metadata": {},
   "outputs": [],
   "source": []
  }
 ],
 "metadata": {
  "kernelspec": {
   "display_name": "Python 3 (ipykernel)",
   "language": "python",
   "name": "python3"
  },
  "language_info": {
   "codemirror_mode": {
    "name": "ipython",
    "version": 3
   },
   "file_extension": ".py",
   "mimetype": "text/x-python",
   "name": "python",
   "nbconvert_exporter": "python",
   "pygments_lexer": "ipython3",
   "version": "3.11.2"
  }
 },
 "nbformat": 4,
 "nbformat_minor": 5
}
