{
 "cells": [
  {
   "cell_type": "code",
   "execution_count": 1,
   "id": "5d400740",
   "metadata": {},
   "outputs": [],
   "source": [
    "def find_largest_position(arr, start, end):\n",
    "    if start == end:\n",
    "        return start\n",
    "    \n",
    "    mid = (start + end) // 2\n",
    "    left_largest_pos = find_largest_position(arr, start, mid)\n",
    "    right_largest_pos = find_largest_position(arr, mid+1, end)\n",
    "    \n",
    "    if arr[left_largest_pos] > arr[right_largest_pos]:\n",
    "        return left_largest_pos\n",
    "    else:\n",
    "        return right_largest_pos\n"
   ]
  },
  {
   "cell_type": "code",
   "execution_count": 4,
   "id": "2513570d",
   "metadata": {},
   "outputs": [
    {
     "name": "stdout",
     "output_type": "stream",
     "text": [
      "Largest element is at position: 2\n"
     ]
    }
   ],
   "source": [
    "arr = [3, 4, 11, 9, 5, 7, 2, 8, 6]\n",
    "largest_pos = find_largest_position(arr, 0, len(arr)-1)\n",
    "print(\"Largest element is at position:\", largest_pos)\n"
   ]
  },
  {
   "cell_type": "code",
   "execution_count": null,
   "id": "7b464760",
   "metadata": {},
   "outputs": [],
   "source": []
  }
 ],
 "metadata": {
  "kernelspec": {
   "display_name": "Python 3 (ipykernel)",
   "language": "python",
   "name": "python3"
  },
  "language_info": {
   "codemirror_mode": {
    "name": "ipython",
    "version": 3
   },
   "file_extension": ".py",
   "mimetype": "text/x-python",
   "name": "python",
   "nbconvert_exporter": "python",
   "pygments_lexer": "ipython3",
   "version": "3.11.2"
  }
 },
 "nbformat": 4,
 "nbformat_minor": 5
}
