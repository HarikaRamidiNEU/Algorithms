{
 "cells": [
  {
   "cell_type": "code",
   "execution_count": 10,
   "id": "32119e82",
   "metadata": {},
   "outputs": [],
   "source": [
    "from collections import deque\n",
    "\n",
    "def ford_fulkerson(graph, source, sink):\n",
    "    flow = 0\n",
    "    \n",
    "    def bfs(graph, source, sink, parent):\n",
    "        visited = [False] * len(graph)\n",
    "        queue = deque([source])\n",
    "        visited[source] = True\n",
    "        while queue:\n",
    "            u = queue.popleft()\n",
    "            for v, capacity in enumerate(graph[u]):\n",
    "                if not visited[v] and capacity > 0:\n",
    "                    visited[v] = True\n",
    "                    parent[v] = u\n",
    "                    if v == sink:\n",
    "                        return True\n",
    "                    queue.append(v)\n",
    "        return False\n",
    "    \n",
    "    parent = [-1] * len(graph)\n",
    "    while bfs(graph, source, sink, parent):\n",
    "        path_flow = float('inf')\n",
    "        s = sink\n",
    "        while s != source:\n",
    "            path_flow = min(path_flow, graph[parent[s]][s])\n",
    "            s = parent[s]\n",
    "        flow += path_flow\n",
    "        v = sink\n",
    "        while v != source:\n",
    "            u = parent[v]\n",
    "            graph[u][v] -= path_flow\n",
    "            graph[v][u] += path_flow\n",
    "            v = parent[v]\n",
    "    \n",
    "    return flow\n"
   ]
  },
  {
   "cell_type": "code",
   "execution_count": 11,
   "id": "d0ad312c",
   "metadata": {},
   "outputs": [
    {
     "name": "stdout",
     "output_type": "stream",
     "text": [
      "Maximum flow is 7\n"
     ]
    }
   ],
   "source": [
    "graph = [\n",
    "    [0, 4, 0, 3, 0, 0],\n",
    "    [0, 0, 4, 0, 0, 0],\n",
    "    [0, 0, 0, 3, 0, 2],\n",
    "    [0, 0, 0, 0, 6, 0],\n",
    "    [0, 0, 0, 0, 0, 6],\n",
    "    [0, 0, 0, 0, 0, 0]\n",
    "]\n",
    "source = 0\n",
    "sink = 5\n",
    "max_flow = ford_fulkerson(graph, source, sink)\n",
    "print(\"Maximum flow is\", max_flow)"
   ]
  },
  {
   "cell_type": "code",
   "execution_count": null,
   "id": "e7b65ce2",
   "metadata": {},
   "outputs": [],
   "source": []
  }
 ],
 "metadata": {
  "kernelspec": {
   "display_name": "Python 3 (ipykernel)",
   "language": "python",
   "name": "python3"
  },
  "language_info": {
   "codemirror_mode": {
    "name": "ipython",
    "version": 3
   },
   "file_extension": ".py",
   "mimetype": "text/x-python",
   "name": "python",
   "nbconvert_exporter": "python",
   "pygments_lexer": "ipython3",
   "version": "3.11.2"
  }
 },
 "nbformat": 4,
 "nbformat_minor": 5
}
